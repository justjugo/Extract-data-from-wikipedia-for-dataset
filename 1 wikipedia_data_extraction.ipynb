{
  "cells": [
    {
      "cell_type": "code",
      "execution_count": null,
      "metadata": {
        "colab": {
          "base_uri": "https://localhost:8080/"
        },
        "id": "OsVuy0Ngoq9D",
        "outputId": "a553e81a-f557-4737-d7c2-324c69c3557b"
      },
      "outputs": [
        {
          "name": "stdout",
          "output_type": "stream",
          "text": [
            "done !\n"
          ]
        }
      ],
      "source": [
        "import requests\n",
        "import csv\n",
        "\n",
        "def get_paragraphs(page_title):\n",
        "    url = f\"https://fr.wikipedia.org/w/api.php?action=query&format=json&prop=extracts&exlimit=max&explaintext&titles={page_title}\"\n",
        "    response = requests.get(url)\n",
        "    print(\"done !\")\n",
        "    data = response.json()\n",
        "    pages = data[\"query\"][\"pages\"]\n",
        "    paragraphs = []\n",
        "    for page_id, page_data in pages.items():\n",
        "        if \"extract\" in page_data:\n",
        "            extract = page_data[\"extract\"]\n",
        "            paragraphs.extend(extract.split(\"\\n\\n\"))\n",
        "    return paragraphs\n",
        "\n",
        "# Titre de la page Wikipédia à partir de laquelle vous souhaitez extraire les paragraphes\n",
        "page_title = \"Banque\"\n",
        "\n",
        "# Nombre de paragraphes à récupérer\n",
        "num_paragraphs = 80\n",
        "\n",
        "# Liste pour stocker les paragraphes extraits\n",
        "paragraphs = []\n",
        "\n",
        "# Récupérer les paragraphes jusqu'à atteindre le nombre souhaité\n",
        "while len(paragraphs) < num_paragraphs:\n",
        "    paragraphs.extend(get_paragraphs(page_title))\n",
        "    print(\"done !\")\n",
        "    page_title = paragraphs[-1]  # Utilisez le dernier titre pour passer à la page suivante\n",
        "\n",
        "    # Vérifier si la dernière page est une redirection\n",
        "    if page_title.startswith(\"Redirection:\"):\n",
        "        page_title = page_title[len(\"Redirection:\"):].strip()\n",
        "\n",
        "# Écrire les paragraphes dans le fichier CSV\n",
        "with open(\"banque_wikipedia.csv\", \"w\", newline=\"\", encoding=\"utf-8\") as csv_file:\n",
        "    writer = csv.writer(csv_file)\n",
        "    writer.writerow([\"ID\", \"Paragraphe\"])\n",
        "    for i, paragraph in enumerate(paragraphs[:num_paragraphs]):\n",
        "        writer.writerow([i+1, paragraph])\n"
      ]
    }
  ],
  "metadata": {
    "colab": {
      "provenance": []
    },
    "kernelspec": {
      "display_name": "Python 3",
      "name": "python3"
    },
    "language_info": {
      "name": "python"
    }
  },
  "nbformat": 4,
  "nbformat_minor": 0
}
